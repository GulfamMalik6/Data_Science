{
  "cells": [
    {
      "cell_type": "markdown",
      "metadata": {
        "id": "view-in-github",
        "colab_type": "text"
      },
      "source": [
        "<a href=\"https://colab.research.google.com/github/GulfamMalik6/Data_Science/blob/main/DataScienceEcosystem.ipynb\" target=\"_parent\"><img src=\"https://colab.research.google.com/assets/colab-badge.svg\" alt=\"Open In Colab\"/></a>"
      ]
    },
    {
      "cell_type": "markdown",
      "metadata": {
        "id": "-s7z4YcfbG5N"
      },
      "source": [
        "<center>\n",
        "    <img src=\"https://cf-courses-data.s3.us.cloud-object-storage.appdomain.cloud/IBMDeveloperSkillsNetwork-DS0105EN-SkillsNetwork/labs/Module2/images/SN_web_lightmode.png\" width=\"300\" alt=\"cognitiveclass.ai logo\">\n",
        "</center>\n"
      ]
    },
    {
      "cell_type": "markdown",
      "metadata": {
        "tags": [],
        "id": "okI_03eEbG5T"
      },
      "source": [
        "# Data Science Tools and Ecosystem"
      ]
    },
    {
      "cell_type": "markdown",
      "metadata": {
        "tags": [],
        "id": "8LX29_e1bG5U"
      },
      "source": [
        "## Introduction\n",
        "In this notebook, we've provided a concise overview of Data Science Tools and the Ecosystem."
      ]
    },
    {
      "cell_type": "markdown",
      "metadata": {
        "tags": [],
        "id": "tYvLWyxabG5V"
      },
      "source": [
        "## List of Data Science Languages\n",
        "* Python\n",
        "* R\n",
        "* Ruby\n",
        "* C++\n",
        "* SQL\n",
        "* Java\n",
        "* PHP\n",
        "* JavaScript (JS)\n",
        "* Julia"
      ]
    },
    {
      "cell_type": "markdown",
      "metadata": {
        "tags": [],
        "id": "AvFPOO35bG5V"
      },
      "source": [
        "## Data Science Libraries\n",
        "* NumPy\n",
        "* Pandas\n",
        "* Matplotlib\n",
        "* Seaborn\n",
        "* ScikitLearn\n",
        "* TensorFlow\n",
        "* Keras\n",
        "* PyTorch\n",
        "* SciPy"
      ]
    },
    {
      "cell_type": "markdown",
      "metadata": {
        "tags": [],
        "id": "ZT1HMqTcbG5W"
      },
      "source": [
        "## Data Science Tools\n",
        "| Tool Name     | Description                         | Website or Source                       |\n",
        "| ------------- | ----------------------------------- | --------------------------------------- |\n",
        "| NumPy         | Numerical computing library          | [numpy.org](https://numpy.org/)        |\n",
        "| Pandas        | Data manipulation and analysis      | [pandas.pydata.org](https://pandas.pydata.org/) |\n",
        "| Matplotlib    | Data visualization library          | [matplotlib.org](https://matplotlib.org/) |\n",
        "| Seaborn       | Statistical data visualization     | [seaborn.pydata.org](https://seaborn.pydata.org/) |\n",
        "| Scikit-Learn  | Machine learning library            | [scikit-learn.org](https://scikit-learn.org/) |\n",
        "| TensorFlow    | Deep learning framework             | [tensorflow.org](https://www.tensorflow.org/) |\n",
        "| Keras         | Deep learning API                   | [keras.io](https://keras.io/)          |\n",
        "| PyTorch       | Deep learning framework             | [pytorch.org](https://pytorch.org/)    |\n",
        "| SciPy         | Scientific computing tools          | [scipy.org](https://www.scipy.org/)    |"
      ]
    },
    {
      "cell_type": "markdown",
      "metadata": {
        "tags": [],
        "id": "vfmikKD6bG5W"
      },
      "source": [
        "## Arithmetic expression examples"
      ]
    },
    {
      "cell_type": "code",
      "execution_count": null,
      "metadata": {
        "tags": [],
        "id": "0lUkXbxGbG5X",
        "outputId": "91c9440c-2c87-4acc-faf4-72c34d3d550f"
      },
      "outputs": [
        {
          "name": "stdout",
          "output_type": "stream",
          "text": [
            "Multiplication Result: 15\n",
            "Addition Result: 8\n"
          ]
        }
      ],
      "source": [
        "# Define two numbers\n",
        "number1 = 5\n",
        "number2 = 3\n",
        "\n",
        "# Multiply the numbers\n",
        "result_multiply = number1 * number2\n",
        "\n",
        "# Add the numbers\n",
        "result_add = number1 + number2\n",
        "\n",
        "# Print the results\n",
        "print(\"Multiplication Result:\", result_multiply)\n",
        "print(\"Addition Result:\", result_add)\n"
      ]
    },
    {
      "cell_type": "code",
      "execution_count": null,
      "metadata": {
        "tags": [],
        "id": "ZUThUKvMbG5a",
        "outputId": "1a5d3232-a5db-4c37-8b7b-1f3d8d45c72b"
      },
      "outputs": [
        {
          "name": "stdout",
          "output_type": "stream",
          "text": [
            "60 minutes is equal to 1.0 hours\n"
          ]
        }
      ],
      "source": [
        "# Define the number of minutes\n",
        "minutes = 60\n",
        "\n",
        "# Convert minutes to hours\n",
        "hours = minutes / 60\n",
        "\n",
        "# Print the result\n",
        "print(f\"{minutes} minutes is equal to {hours} hours\")\n"
      ]
    },
    {
      "cell_type": "markdown",
      "metadata": {
        "tags": [],
        "id": "Xf4YFVp7bG5b"
      },
      "source": [
        "## Objectives\n",
        "* Extract Insights: Data science aims to extract meaningful insights and knowledge from data.\n",
        "\n",
        "* Predictive Modeling: Data science seeks to build predictive models based on historical data.\n",
        "\n",
        "* Data-driven Decision Making: It promotes data-driven decision-making processes.\n",
        "\n",
        "* Pattern Recognition: Data science is used to identify patterns, correlations, and anomalies in data.\n",
        "\n",
        "* Automation: It aims to automate repetitive tasks in data analysis.\n",
        "\n",
        "* Personalization: Data science creates personalized experiences for users/customers.\n",
        "\n",
        "* Risk Management: It helps organizations assess and mitigate risks through data analysis.\n",
        "\n",
        "* Cost Reduction: Data science optimizes processes to reduce costs.\n",
        "\n",
        "* Product Development: It supports product development through data-driven insights.\n",
        "\n",
        "* Customer Insights: Data science provides a deeper understanding of customer preferences and behaviors.\n"
      ]
    },
    {
      "cell_type": "markdown",
      "metadata": {
        "tags": [],
        "id": "40-VlJ1AbG5c"
      },
      "source": [
        "##Gulfam Asghar"
      ]
    },
    {
      "cell_type": "code",
      "execution_count": null,
      "metadata": {
        "id": "egkV1F21bG5d"
      },
      "outputs": [],
      "source": []
    }
  ],
  "metadata": {
    "kernelspec": {
      "display_name": "Python",
      "language": "python",
      "name": "conda-env-python-py"
    },
    "language_info": {
      "codemirror_mode": {
        "name": "ipython",
        "version": 3
      },
      "file_extension": ".py",
      "mimetype": "text/x-python",
      "name": "python",
      "nbconvert_exporter": "python",
      "pygments_lexer": "ipython3",
      "version": "3.7.12"
    },
    "colab": {
      "provenance": [],
      "include_colab_link": true
    }
  },
  "nbformat": 4,
  "nbformat_minor": 0
}